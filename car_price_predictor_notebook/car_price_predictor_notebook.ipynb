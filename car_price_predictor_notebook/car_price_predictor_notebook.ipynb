{
 "cells": [
  {
   "cell_type": "markdown",
   "metadata": {
    "collapsed": true
   },
   "source": [
    "# Data Collection"
   ]
  },
  {
   "cell_type": "code",
   "execution_count": 1,
   "metadata": {
    "scrolled": true
   },
   "outputs": [
    {
     "name": "stderr",
     "output_type": "stream",
     "text": [
      "e:\\python\\projects\\deploying-machine-learning-model-to-heroku\\venv\\lib\\site-packages\\sklearn\\cross_validation.py:41: DeprecationWarning: This module was deprecated in version 0.18 in favor of the model_selection module into which all the refactored classes and functions are moved. Also note that the interface of the new CV iterators are different from that of this module. This module will be removed in 0.20.\n",
      "  \"This module will be removed in 0.20.\", DeprecationWarning)\n"
     ]
    }
   ],
   "source": [
    "#modules for data collection and pre-processing\n",
    "from bs4 import BeautifulSoup\n",
    "import requests\n",
    "import pandas as pd\n",
    "import csv\n",
    "\n",
    "#modules for visualization and analysis\n",
    "import numpy as np\n",
    "from sklearn.cross_validation import train_test_split\n",
    "import seaborn as sns\n",
    "\n",
    "sns.set_style(\"white\")\n",
    "\n",
    "import matplotlib.patches as mpatches\n",
    "import matplotlib.pyplot as plt\n",
    "from pylab import rcParams\n",
    "%matplotlib inline"
   ]
  },
  {
   "cell_type": "markdown",
   "metadata": {},
   "source": [
    "Module for scraping public store and output a csv of listing urls"
   ]
  },
  {
   "cell_type": "code",
   "execution_count": 2,
   "metadata": {},
   "outputs": [],
   "source": [
    "def get_ads_urls():\n",
    "    urls_list = []\n",
    "    basic_url = \"https://www.avito.ma/fr/maroc/voitures-à_vendre?mpr=500000000&o=\"\n",
    "    for i in range(1,250):\n",
    "        url = basic_url+str(i)\n",
    "        r  = requests.get(url)\n",
    "        data = r.text\n",
    "        soup = BeautifulSoup(data, 'lxml')\n",
    "        for div in soup.findAll('div', {'class': 'item-img'}):\n",
    "            a = div.findAll('a')[0]\n",
    "            urls_list.append(a.get('href'))\n",
    "\n",
    "\n",
    "    df = pd.DataFrame(data={\"url\": urls_list})\n",
    "    df.to_csv(\"./ads_urls.csv\", sep=',',index=False)"
   ]
  },
  {
   "cell_type": "code",
   "execution_count": 3,
   "metadata": {},
   "outputs": [],
   "source": [
    "get_ads_urls()"
   ]
  },
  {
   "cell_type": "code",
   "execution_count": 4,
   "metadata": {},
   "outputs": [],
   "source": [
    "def scrap_ad_data(ad_url):\n",
    "    r=requests.get(ad_url)\n",
    "    data=r.text\n",
    "    soup=BeautifulSoup(data,\"html.parser\")\n",
    "    target_component=soup.findAll(\"h2\",{\"class\":[\"font-normal\", \"fs12\", \"no-margin\", \"ln22\"]})\n",
    "    results=[]\n",
    "    for i in target_component:\n",
    "        results.append(''.join(i.findAll(text=True)).replace('\\n',''))\n",
    "    return results\n",
    "    "
   ]
  },
  {
   "cell_type": "code",
   "execution_count": 5,
   "metadata": {},
   "outputs": [],
   "source": [
    "def write_data_to_csv(data):\n",
    "    with open(\"./output.csv\",\"w\") as f:\n",
    "        writer=csv.writer(f)\n",
    "        writer.writerows(data)"
   ]
  },
  {
   "cell_type": "code",
   "execution_count": null,
   "metadata": {},
   "outputs": [],
   "source": [
    "urls_data=pd.read_csv(\"./ads_urls.csv\")\n",
    "final_result=[]\n",
    "i=1\n",
    "\n",
    "for index, row in urls_data.iterrows():\n",
    "    final_result.append(scrap_ad_data(row['url']))\n",
    "    \n",
    "print('Data scrap end')\n",
    "\n",
    "write_data_to_csv(final_result)"
   ]
  },
  {
   "cell_type": "markdown",
   "metadata": {},
   "source": [
    "# Data Preprocessing and cleaning"
   ]
  },
  {
   "cell_type": "code",
   "execution_count": null,
   "metadata": {},
   "outputs": [],
   "source": [
    "# set the column names\n",
    "colnames=['price', 'year_model', 'mileage', 'fuel_type', 'mark', 'model', 'fiscal_power', 'sector', 'type', 'city'] \n",
    "\n",
    "df = pd.read_csv(\"./output.csv\", encoding = \"ISO-8859-1\", sep=\",\", names=colnames, header=None)\n",
    "\n",
    "df.head()"
   ]
  },
  {
   "cell_type": "code",
   "execution_count": null,
   "metadata": {},
   "outputs": [],
   "source": [
    "df= df[df.price.str.contains(\"DH\")==True]\n",
    "df.price=df.price.map(lambda x:x.rstrip('DH'))\n",
    "df.price=df.price.str.replace(\" \",\"\")\n",
    "df.price=pd.to_numeric(df.price, errors='coerce', downcast='integer')\n",
    "\n",
    "df=df[df.year_model.str.contains(\"Année-Modèle\")==True]\n",
    "df.year_model=df.year_model.map(lambda x:x.lstrip('Année-Modèle:').rstrip('ou plus ancien'))\n",
    "df=df[df.year_model != ' -']\n",
    "df=df[df.year_model !='']\n",
    "df.year_model=pd.to_numeric(df.year_model, errors='coerce', downcast='integer')\n",
    "\n",
    "df=df[df.mileage.str.contains(\"Kilométrage\")== True]\n",
    "df.mileage = df.mileage.map(lambda x:x.lstrip('Kilométrage:'))\n",
    "df.mileage = df.mileage.map(lambda x:x.lstrip('Plus de '))\n",
    "df=df[df.mileage !='-']\n",
    "\n",
    "if any(df.mileage != '500 000'):\n",
    "    df['minim'],df['maxim']=df.mileage.str.split('-',1).str\n",
    "    df['maxim']=df.maxim.str.replace(\" \",\"\")\n",
    "    df['minim']=df.minim.str.replace(\" \",\"\")\n",
    "    df['maxim']=df['maxim'].replace(np.nan, 500000)\n",
    "    df.mileage = df.apply(lambda row: (int(row.minim)+int(row.maxim))/2, axis =1)\n",
    "    df=df.drop(columns=['minim', 'maxim'])\n",
    "    \n",
    "df.fuel_type=df.fuel_type.map(lambda x:x.lstrip('Type de carburant:'))  \n",
    "\n",
    "df['mark']=df['mark'].map(lambda x:x.replace('Marque:',''))\n",
    "df=df[df.mark!='-']\n",
    "df['model']=df['model'].map(lambda x:x.replace('Modèle:',''))\n",
    "\n",
    "df.fiscal_power = df.fiscal_power.map(lambda x: x.lstrip('Puissance fiscale:Plus de').rstrip(' CV'))\n",
    "df.fiscal_power =df.fiscal_power.str.replace(\"-\",\"0\")\n",
    "df.fiscal_power=pd.to_numeric(df.fiscal_power, errors='coerce', downcast='integer')\n",
    "df.fiscal_power=df.fiscal_power.map(lambda x:df.fiscal_power.mean() if x == 0 else x)\n",
    "\n",
    "df=df[df.fuel_type!='-']\n",
    "\n",
    "df=df.drop(columns=['sector','type'])"
   ]
  },
  {
   "cell_type": "code",
   "execution_count": null,
   "metadata": {},
   "outputs": [],
   "source": [
    "df.head"
   ]
  },
  {
   "cell_type": "markdown",
   "metadata": {},
   "source": [
    "# Exploratory analysis and visualization"
   ]
  },
  {
   "cell_type": "markdown",
   "metadata": {},
   "source": [
    "price distribution by year_model"
   ]
  },
  {
   "cell_type": "code",
   "execution_count": null,
   "metadata": {},
   "outputs": [],
   "source": [
    "plt.figure(figsize=(15,8))\n",
    "plt.scatter(df.price,df.year_model)\n",
    "plt.xlabel(\"price (DH)\",fontsize=14)\n",
    "plt.ylabel(\"year of model\",fontsize=14)\n",
    "plt.title(\"Scatter plot of price and year of model\",fontsize=18)\n",
    "plt.show()"
   ]
  },
  {
   "cell_type": "markdown",
   "metadata": {},
   "source": [
    "price distribution by mark"
   ]
  },
  {
   "cell_type": "code",
   "execution_count": null,
   "metadata": {},
   "outputs": [],
   "source": [
    "f, ax=plt.subplots(figsize=(15,12))\n",
    "sns.stripplot(data=df, x='price', y='mark', jitter=.1)\n",
    "plt.show"
   ]
  },
  {
   "cell_type": "markdown",
   "metadata": {},
   "source": [
    "price distribution by fiscal power"
   ]
  },
  {
   "cell_type": "code",
   "execution_count": null,
   "metadata": {},
   "outputs": [],
   "source": [
    "plt.figure(figsize=(15,8))\n",
    "plt.scatter(df.price,df.fiscal_power,c='orange',marker='x')\n",
    "plt.xlabel(\"price (DH)\",fontsize=14)\n",
    "plt.ylabel(\"fiscal power(cv)\",fontsize=14)\n",
    "plt.title(\"Scatter plot of price and fiscal power\",fontsize=18)\n",
    "plt.show()"
   ]
  },
  {
   "cell_type": "markdown",
   "metadata": {},
   "source": [
    "top 20 mark distribution"
   ]
  },
  {
   "cell_type": "code",
   "execution_count": null,
   "metadata": {},
   "outputs": [],
   "source": [
    "plt.figure(figsize=(17,8))\n",
    "df.mark.value_counts().nlargest(20).plot(kind='barh')\n",
    "plt.xlabel('Marks Frequency')\n",
    "plt.title(\"Frequency of Top 20 Marks distribution\",fontsize=18)\n",
    "plt.show()"
   ]
  },
  {
   "cell_type": "markdown",
   "metadata": {},
   "source": [
    "price distribution by fuel type"
   ]
  },
  {
   "cell_type": "code",
   "execution_count": null,
   "metadata": {},
   "outputs": [],
   "source": [
    "f, ax =plt.subplots(figsize=(15,10))\n",
    "sns.stripplot(data=df,x='fuel_type',y='price',jitter=.5)\n",
    "plt.show()"
   ]
  },
  {
   "cell_type": "code",
   "execution_count": null,
   "metadata": {},
   "outputs": [],
   "source": [
    "f, ax=plt.subplots(figsize=(15,10))\n",
    "sns.violinplot(data=df, x='fuel_type',y='price')\n",
    "plt.show()"
   ]
  },
  {
   "cell_type": "markdown",
   "metadata": {},
   "source": [
    "Price distribution by mileage and fuel type"
   ]
  },
  {
   "cell_type": "code",
   "execution_count": null,
   "metadata": {},
   "outputs": [],
   "source": [
    "color_dict={'Diesel':'blue','Essence':'orange','Electrique':'yellow','LPG':'magenta'}"
   ]
  },
  {
   "cell_type": "code",
   "execution_count": null,
   "metadata": {},
   "outputs": [],
   "source": [
    "fig, ax= plt.subplots(figsize=(15,10))\n",
    "plt.plot(np.unique(df.year_model),np.poly1d(np.polyfit(df.year_model,df.price,1))(np.unique(df.year_model)),c='red',linewidth=1)\n",
    "plt.scatter(df.year_model,df.price, c=[color_dict[i] for i in df.fuel_type],marker='+')\n",
    "fuel_type=df.fuel_type.unique()\n",
    "recs=[]\n",
    "for i in fuel_type:\n",
    "    recs.append(mpatches.Rectangle((2,2),1,1,fc=color_dict[i]))\n",
    "    plt.legend(recs,fuel_type,loc=1,fontsize=16)\n",
    "    \n",
    "plt.title('Price of cars by year model grouped by fuel type',fontsize=20)\n",
    "plt.ylabel('Price',fontsize=16)\n",
    "plt.xlabel('year model', fontsize=16)\n",
    "xvals=ax.get_xticks()\n",
    "ax.set_xticklabels(['{}'.format(int(x)) for x in xvals])\n",
    "\n",
    "yvals=ax.get_yticks()\n",
    "ax.set_yticklabel(['{}'.format(int(y)) for y in yvals])\n",
    "\n",
    "plt.show()"
   ]
  },
  {
   "cell_type": "markdown",
   "metadata": {},
   "source": [
    "correlation matrix"
   ]
  },
  {
   "cell_type": "code",
   "execution_count": null,
   "metadata": {},
   "outputs": [],
   "source": [
    "cmap=sns.diverging_palette(220, 10, as_cmap=True)\n",
    "f, ax =plt.subplots(figsize=(15,10))\n",
    "corr=df.corr()\n",
    "mask=np.zero_like(corr, dtype=np.bool)\n",
    "mask[np.triu_indices_from(mask)]=True\n",
    "sns.heatmap(corr,mask=mask,cmap=cmap,vmax=.3,center=0,square=True,linewidths=.5,cbar_kws={\"shrink\":.5})\n",
    "plt.title('Correlation matrix',fontsize=20)\n",
    "plt.show()"
   ]
  },
  {
   "cell_type": "markdown",
   "metadata": {},
   "source": [
    "ads distribution by city"
   ]
  },
  {
   "cell_type": "code",
   "execution_count": null,
   "metadata": {},
   "outputs": [],
   "source": [
    "plt.figure(figsize=(17,8))\n",
    "df.city.value_counts().nlargest(20).plot(kind='bar')\n",
    "plt.xlabel('City Frequency')\n",
    "plt.title(\"Frequency of top 20 city distribution\",fontsize=18)\n",
    "plt.show()"
   ]
  },
  {
   "cell_type": "markdown",
   "metadata": {},
   "source": [
    "# Data Modelling"
   ]
  },
  {
   "cell_type": "markdown",
   "metadata": {},
   "source": [
    "knn regression"
   ]
  },
  {
   "cell_type": "code",
   "execution_count": null,
   "metadata": {},
   "outputs": [],
   "source": [
    "data=df[df.price < 400000]"
   ]
  },
  {
   "cell_type": "code",
   "execution_count": null,
   "metadata": {},
   "outputs": [],
   "source": [
    "df.head()"
   ]
  },
  {
   "cell_type": "markdown",
   "metadata": {},
   "source": [
    "handle categorical features"
   ]
  },
  {
   "cell_type": "code",
   "execution_count": null,
   "metadata": {},
   "outputs": [],
   "source": [
    "X = data[['year_model','mileage','fiscal_power','fuel_type','mark']]\n",
    "Y = data.price\n",
    "X = pd.get_dummies(data=X)"
   ]
  },
  {
   "cell_type": "code",
   "execution_count": null,
   "metadata": {},
   "outputs": [],
   "source": [
    "X.head()"
   ]
  },
  {
   "cell_type": "markdown",
   "metadata": {},
   "source": [
    "Data splitting - Train, validation + test"
   ]
  },
  {
   "cell_type": "code",
   "execution_count": null,
   "metadata": {},
   "outputs": [],
   "source": [
    "X_train, X_test, Y_train, Y_test = train_test_split(X,Y,test_size=.20, random_state =42)"
   ]
  },
  {
   "cell_type": "code",
   "execution_count": null,
   "metadata": {},
   "outputs": [],
   "source": [
    "from sklearn import neighbors\n",
    "knn=neighbors.KNeighborsRegressor(n_neighbors=6)\n",
    "knn.fit(X_train, Y_train)\n",
    "\n",
    "predicted = knn.predict(X_test)\n",
    "residual=Y_test- predicted\n",
    "\n",
    "fig=plt.figure(figsize=(30,30))\n",
    "ax1=plt.subplot(211)\n",
    "sns.distplot(residual, color='teal')\n",
    "plt.tick_params(axis='both',which='major',labelsize=20)\n",
    "plt.title('Residual counts',fontsize=35)\n",
    "plt.xlabel('Residual',fontsize=25)\n",
    "plt.ylabel('Count',fontsize=25)\n",
    "\n",
    "ax2=plt.subplot(212)\n",
    "plt.scatter(predicted, residual, color='teal')\n",
    "plt.tick_params(axis='both',which='major',labelsize=20)\n",
    "plt.xlabel('Predicted',fontsize=25)\n",
    "plt.ylabel('Residual',fontsize=25)\n",
    "plt.axhline(y=0)\n",
    "plt.title('Residual vs. Predicted',fontsize=35)\n",
    "\n",
    "plt.show()\n",
    "\n",
    "from sklearn.metrics import mean_squared_error\n",
    "rmse = np.sqrt(mean_squared_error(Y_test, predicted))\n",
    "print('RMSE:')\n",
    "print(rmse)"
   ]
  },
  {
   "cell_type": "code",
   "execution_count": null,
   "metadata": {},
   "outputs": [],
   "source": [
    "from sklearn.metrics import r2_score\n",
    "print('Variance score: %.2f'%r2_score(Y_test,predicted))"
   ]
  },
  {
   "cell_type": "code",
   "execution_count": null,
   "metadata": {},
   "outputs": [],
   "source": [
    "rmse_l=[]\n",
    "num=[]\n",
    "for n in range (2,16):\n",
    "    knn=neighbors.KNeighborsRegressor(n_neighbors=n)\n",
    "    knn.fit(X_train,Y_train)\n",
    "    predicted=knn.predict(X_test)\n",
    "    rmse_l.append(np.sqrt(mean_squared_error(Y_test,predicted)))\n",
    "    num.append(n)"
   ]
  },
  {
   "cell_type": "code",
   "execution_count": null,
   "metadata": {},
   "outputs": [],
   "source": [
    "df_plt=pd.DataFrame()\n",
    "df_plt['rmse']=rmse_l\n",
    "df_plt['n_neighbors']=num\n",
    "ax=plt.figure(figsize=(15,7))\n",
    "sns.barplot(data=df_plt, x='n_neighbors',y='rmse')\n",
    "plt.show()"
   ]
  },
  {
   "cell_type": "markdown",
   "metadata": {},
   "source": [
    "Decision tree regression"
   ]
  },
  {
   "cell_type": "code",
   "execution_count": null,
   "metadata": {},
   "outputs": [],
   "source": [
    "from sklearn.tree import DecisionTreeRegressor\n",
    "\n",
    "dtr=DecisionTreeRegressor(max_features='auto')\n",
    "dtr.fit(X_train, Y_train)\n",
    "predicted=dtr.predict(X_test)\n",
    "residual=Y_test-predicted\n",
    "\n",
    "fig=plt.figure(figsize=(30,30))\n",
    "ax1=plt.subplot(211)\n",
    "sns.distplot(residual,color='orange')\n",
    "plt.ticktick_params(axis='both',which='major',labelsize=20)\n",
    "plt.title('Residual counts',fontsize=35)\n",
    "plt.xlabel('Residual',fontsize=25)\n",
    "plt,ylabel('Count',fontsize=25)\n",
    "\n",
    "ax2=plt.subplot(212)\n",
    "plt.scatter(predicted, residual, color='orange')\n",
    "plt.tick_params(axis='both',which='major',labelsize=20)\n",
    "plt.xlabel('Predicted',fontsize=25)\n",
    "plt.ylabel('Residual',fintsize=25)\n",
    "plt.axhline(y=0)\n",
    "plt.title('Residual vs Predicted',fontsize=35)\n",
    "\n",
    "plt.show()\n",
    "\n",
    "from sklearn.metrics import mean_squarred_error\n",
    "rmse=np.sqrt(mean_squared_error(Y_test,predicted))\n",
    "print(\"RMSE: \")\n",
    "print(rmse)"
   ]
  },
  {
   "cell_type": "code",
   "execution_count": null,
   "metadata": {},
   "outputs": [],
   "source": [
    "print('Variance score: %.2f'% r2_score(Y_test,predicted))"
   ]
  },
  {
   "cell_type": "markdown",
   "metadata": {},
   "source": [
    "Linear Regression"
   ]
  },
  {
   "cell_type": "code",
   "execution_count": null,
   "metadata": {},
   "outputs": [],
   "source": [
    "from sklearn import linear_model\n",
    "\n",
    "regr = linear_model.LinearRegression()\n",
    "regr.fit(X_train, Y_train)\n",
    "\n",
    "predicted = regr.predict(X_test)\n",
    "residual = Y_test - predicted\n",
    "\n",
    "fig = plt.figure(figsize=(30,30))\n",
    "ax1 = plt.subplot(211)\n",
    "sns.distplot(residual, color ='teal')\n",
    "plt.tick_params(axis='both', which='major', labelsize=20)\n",
    "plt.title('Residual counts',fontsize=35)\n",
    "plt.xlabel('Residual',fontsize=25)\n",
    "plt.ylabel('Count',fontsize=25)\n",
    "\n",
    "ax2 = plt.subplot(212)\n",
    "plt.scatter(predicted, residual, color ='teal')\n",
    "plt.tick_params(axis='both', which='major', labelsize=20)\n",
    "plt.xlabel('Predicted',fontsize=25)\n",
    "plt.ylabel('Residual',fontsize=25)\n",
    "plt.axhline(y=0)\n",
    "plt.title('Residual vs. Predicted',fontsize=35)\n",
    "\n",
    "plt.show()\n",
    "\n",
    "from sklearn.metrics import mean_squared_error\n",
    "rmse = np.sqrt(mean_squared_error(Y_test, predicted))\n",
    "print('RMSE:')\n",
    "print(rmse)"
   ]
  },
  {
   "cell_type": "code",
   "execution_count": null,
   "metadata": {},
   "outputs": [],
   "source": [
    "print('Variance score: %.2f' % r2_score(Y_test, predicted))"
   ]
  },
  {
   "cell_type": "markdown",
   "metadata": {},
   "source": [
    "Boosting"
   ]
  },
  {
   "cell_type": "code",
   "execution_count": null,
   "metadata": {},
   "outputs": [],
   "source": [
    "from sklearn.ensemble import GradientBoostingRegressor\n",
    "from sklearn.model_selection import cross_val_score\n",
    "\n",
    "r_sq = []\n",
    "deep = []\n",
    "mean_scores = []\n",
    "\n",
    "#loss : {‘ls’, ‘lad’, ‘huber’, ‘quantile’}\n",
    "for n in range(3, 11):\n",
    "    gbr = GradientBoostingRegressor(loss ='ls', max_depth=n)\n",
    "    gbr.fit (X, Y)\n",
    "    deep.append(n)\n",
    "    r_sq.append(gbr.score(X, Y))\n",
    "    mean_scores.append(cross_val_score(gbr, X, Y, cv=12).mean())"
   ]
  },
  {
   "cell_type": "code",
   "execution_count": null,
   "metadata": {},
   "outputs": [],
   "source": [
    "plt_gbr = pd.DataFrame()\n",
    "\n",
    "plt_gbr['mean_scores'] = mean_scores\n",
    "plt_gbr['depth'] = deep\n",
    "plt_gbr['R²'] = r_sq\n",
    "\n",
    "f, ax = plt.subplots(figsize=(15, 5))\n",
    "sns.barplot(data = plt_gbr, x='depth', y='R²')\n",
    "plt.show()\n",
    "\n",
    "f, ax = plt.subplots(figsize=(15, 5))\n",
    "sns.barplot(data = plt_gbr, x='depth', y='mean_scores')\n",
    "plt.show()"
   ]
  },
  {
   "cell_type": "code",
   "execution_count": null,
   "metadata": {},
   "outputs": [],
   "source": [
    "from sklearn.ensemble import GradientBoostingRegressor\n",
    "from sklearn.model_selection import cross_val_score\n",
    "\n",
    "gbr = GradientBoostingRegressor(loss ='ls', max_depth=6)\n",
    "gbr.fit (X_train, Y_train)\n",
    "predicted = gbr.predict(X_test)\n",
    "residual = Y_test - predicted\n",
    "\n",
    "fig = plt.figure(figsize=(30,30))\n",
    "ax1 = plt.subplot(211)\n",
    "sns.distplot(residual, color ='teal')\n",
    "plt.tick_params(axis='both', which='major', labelsize=20)\n",
    "plt.title('Residual counts',fontsize=35)\n",
    "plt.xlabel('Residual',fontsize=25)\n",
    "plt.ylabel('Count',fontsize=25)\n",
    "\n",
    "ax2 = plt.subplot(212)\n",
    "plt.scatter(predicted, residual, color ='teal')\n",
    "plt.tick_params(axis='both', which='major', labelsize=20)\n",
    "plt.xlabel('Predicted',fontsize=25)\n",
    "plt.ylabel('Residual',fontsize=25)\n",
    "plt.axhline(y=0)\n",
    "plt.title('Residual vs. Predicted',fontsize=35)\n",
    "\n",
    "plt.show()\n",
    "\n",
    "rmse = np.sqrt(mean_squared_error(Y_test, predicted))\n",
    "scores = cross_val_score(gbr, X, Y, cv=12)\n",
    "\n",
    "print('\\nCross Validation Scores:')\n",
    "print(scores)\n",
    "print('\\nMean Score:')\n",
    "print(scores.mean())\n",
    "print('\\nRMSE:')\n",
    "print(rmse)"
   ]
  },
  {
   "cell_type": "code",
   "execution_count": null,
   "metadata": {},
   "outputs": [],
   "source": [
    "print('Variance score: %.2f' % r2_score(Y_test, predicted))"
   ]
  },
  {
   "cell_type": "markdown",
   "metadata": {},
   "source": [
    "Prediction VS Real price histogram"
   ]
  },
  {
   "cell_type": "code",
   "execution_count": null,
   "metadata": {},
   "outputs": [],
   "source": [
    "A = Y_test.reshape(-1, 1)\n",
    "B = predicted.reshape(-1, 1)"
   ]
  },
  {
   "cell_type": "code",
   "execution_count": null,
   "metadata": {},
   "outputs": [],
   "source": [
    "plt.rcParams['figure.figsize'] = 16,5\n",
    "plt.figure()\n",
    "plt.plot(A[-100:], label=\"Real\")\n",
    "plt.plot(B[-100:], label=\"Predicted\")\n",
    "plt.legend()\n",
    "plt.title(\"Price: real vs predicted\")\n",
    "plt.ylabel(\"price [DH]\")\n",
    "plt.xticks(())\n",
    "plt.show()"
   ]
  },
  {
   "cell_type": "markdown",
   "metadata": {},
   "source": [
    "predict new"
   ]
  },
  {
   "cell_type": "code",
   "execution_count": null,
   "metadata": {},
   "outputs": [],
   "source": [
    "# user_input = [2010, 124999.5, 6, 'Diesel', 'BMW']\n",
    "user_input = {'year_model':2006, 'mileage':82499.5, 'fiscal_power':6, 'fuel_type':'Diesel', 'mark':'Dacia'}\n",
    "def input_to_one_hot(data):\n",
    "    # initialize the target vector with zero values\n",
    "    enc_input = np.zeros(61)\n",
    "    # set the numerical input as they are\n",
    "    enc_input[0] = data['year_model']\n",
    "    enc_input[1] = data['mileage']\n",
    "    enc_input[2] = data['fiscal_power']\n",
    "    ##################### Mark #########################\n",
    "    # get the array of marks categories\n",
    "    marks = df.mark.unique()\n",
    "    # redefine the the user inout to match the column name\n",
    "    redefinded_user_input = 'mark_'+data['mark']\n",
    "    # search for the index in columns name list \n",
    "    mark_column_index = X.columns.tolist().index(redefinded_user_input)\n",
    "    #print(mark_column_index)\n",
    "    # fullfill the found index with 1\n",
    "    enc_input[mark_column_index] = 1\n",
    "    ##################### Fuel Type ####################\n",
    "    # get the array of fuel type\n",
    "    fuel_types = df.fuel_type.unique()\n",
    "    # redefine the the user inout to match the column name\n",
    "    redefinded_user_input = 'fuel_type_'+data['fuel_type']\n",
    "    # search for the index in columns name list \n",
    "    fuelType_column_index = X.columns.tolist().index(redefinded_user_input)\n",
    "    # fullfill the found index with 1\n",
    "    enc_input[fuelType_column_index] = 1\n",
    "    return enc_input"
   ]
  },
  {
   "cell_type": "code",
   "execution_count": null,
   "metadata": {},
   "outputs": [],
   "source": [
    "print(input_to_one_hot(user_input))"
   ]
  },
  {
   "cell_type": "code",
   "execution_count": null,
   "metadata": {},
   "outputs": [],
   "source": [
    "a = input_to_one_hot(user_input)"
   ]
  },
  {
   "cell_type": "code",
   "execution_count": null,
   "metadata": {},
   "outputs": [],
   "source": [
    "price_pred = gbr.predict([a])"
   ]
  },
  {
   "cell_type": "code",
   "execution_count": null,
   "metadata": {},
   "outputs": [],
   "source": [
    "price_pred[0]"
   ]
  },
  {
   "cell_type": "markdown",
   "metadata": {},
   "source": [
    "save model"
   ]
  },
  {
   "cell_type": "code",
   "execution_count": null,
   "metadata": {},
   "outputs": [],
   "source": [
    "from sklearn.externals import joblib\n",
    "\n",
    "joblib.dump(gbr, 'model.pkl')"
   ]
  },
  {
   "cell_type": "code",
   "execution_count": null,
   "metadata": {},
   "outputs": [],
   "source": [
    "gbr = joblib.load('model.pkl')"
   ]
  },
  {
   "cell_type": "code",
   "execution_count": null,
   "metadata": {},
   "outputs": [],
   "source": [
    "print(\"the best price for this Dacia is\",gbr.predict([a])[0])"
   ]
  },
  {
   "cell_type": "markdown",
   "metadata": {},
   "source": [
    "Build RESI API"
   ]
  },
  {
   "cell_type": "code",
   "execution_count": null,
   "metadata": {},
   "outputs": [],
   "source": [
    "import requests, json\n",
    "url = \"http://127.0.0.1:8080/api\"\n",
    "data = json.dumps({'year_model':2014, 'mileage':12499.5, 'fiscal_power':7, 'fuel_type':'Diesel', 'mark':'Mercedes-Benz'})\n",
    "\n",
    "r = requests.post(url, data)\n",
    "\n",
    "print(r.json())\n",
    "\n"
   ]
  },
  {
   "cell_type": "code",
   "execution_count": null,
   "metadata": {},
   "outputs": [],
   "source": [
    "r.json()['results'][0]"
   ]
  }
 ],
 "metadata": {
  "kernelspec": {
   "display_name": "venv",
   "language": "python",
   "name": "venv"
  },
  "language_info": {
   "codemirror_mode": {
    "name": "ipython",
    "version": 3
   },
   "file_extension": ".py",
   "mimetype": "text/x-python",
   "name": "python",
   "nbconvert_exporter": "python",
   "pygments_lexer": "ipython3",
   "version": "3.7.0"
  }
 },
 "nbformat": 4,
 "nbformat_minor": 1
}
